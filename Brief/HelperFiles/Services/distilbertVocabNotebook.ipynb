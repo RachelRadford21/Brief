{
  "nbformat": 4,
  "nbformat_minor": 0,
  "metadata": {
    "colab": {
      "provenance": []
    },
    "kernelspec": {
      "name": "python3",
      "display_name": "Python 3"
    },
    "language_info": {
      "name": "python"
    }
  },
  "cells": [
    {
      "cell_type": "code",
      "execution_count": 11,
      "metadata": {
        "colab": {
          "base_uri": "https://localhost:8080/"
        },
        "id": "o2ce0V1_7vME",
        "outputId": "de8edca8-6c5d-4344-8e7c-6edabc4c82b0"
      },
      "outputs": [
        {
          "output_type": "stream",
          "name": "stdout",
          "text": [
            "Vocabulary file saved as distilbert_vocab.json\n",
            "Vocabulary size: 30522\n",
            "Sample vocab items: [('td', 14595), ('crocodile', 21843), ('testified', 14914), ('livingston', 14109), ('moody', 14434), ('wren', 16255), ('emmett', 25685), ('territories', 6500), ('pee', 21392), ('avalon', 18973), ('##aire', 14737), ('marlborough', 22830), ('pursue', 7323), ('embarked', 11299), ('##olic', 23518), ('avengers', 14936), ('est', 9765), ('summoned', 11908), ('aa', 9779), ('scotia', 9676)]\n",
            "File size: 592979 bytes\n"
          ]
        }
      ],
      "source": [
        "from transformers import AutoTokenizer\n",
        "import json\n",
        "\n",
        "# Load the DistilBERT tokenizer\n",
        "tokenizer = AutoTokenizer.from_pretrained(\"distilbert-base-uncased\")\n",
        "\n",
        "# Get the vocabulary mapping (word → token ID)\n",
        "vocab_dict = tokenizer.get_vocab()\n",
        "\n",
        "# Save to JSON file\n",
        "with open(\"distilbert_vocab.json\", \"w\") as f:\n",
        "    json.dump(vocab_dict, f)\n",
        "\n",
        "print(\"Vocabulary file saved as distilbert_vocab.json\")\n",
        "\n",
        "# Print vocabulary size\n",
        "print(f\"Vocabulary size: {len(tokenizer.get_vocab())}\")\n",
        "\n",
        "print(\"Sample vocab items:\", list(vocab_dict.items())[:20])\n",
        "# Force-save the vocabulary JSON\n",
        "with open(\"distilbert_vocab.json\", \"w\") as f:\n",
        "    json.dump(vocab_dict, f, indent=2)  # Indent for readability\n",
        "    f.flush()  # Ensures all data is written\n",
        "    os.fsync(f.fileno())  # Force write to disk\n",
        "\n",
        "# Check if the file is properly saved\n",
        "print(f\"File size: {os.path.getsize('distilbert_vocab.json')} bytes\")\n",
        "\n"
      ]
    },
    {
      "cell_type": "code",
      "source": [
        "import os\n",
        "print(f\"File size: {os.path.getsize('distilbert_vocab.json')} bytes\")"
      ],
      "metadata": {
        "colab": {
          "base_uri": "https://localhost:8080/"
        },
        "id": "awK9aAsR-1VK",
        "outputId": "e77e6754-557b-4ac3-b037-24312b3f5a86"
      },
      "execution_count": 8,
      "outputs": [
        {
          "output_type": "stream",
          "name": "stdout",
          "text": [
            "File size: 531933 bytes\n"
          ]
        }
      ]
    }
  ]
}
